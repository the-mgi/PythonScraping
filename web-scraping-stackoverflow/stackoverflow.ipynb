{
 "cells": [
  {
   "cell_type": "code",
   "execution_count": 1,
   "metadata": {
    "pycharm": {
     "name": "#%%\n"
    }
   },
   "outputs": [],
   "source": [
    "import requests\n",
    "from requests_html import HTML\n",
    "import pandas as pd"
   ]
  },
  {
   "cell_type": "code",
   "execution_count": null,
   "metadata": {},
   "outputs": [
    {
     "name": "stdout",
     "output_type": "stream",
     "text": [
      "Records Done: 50\n",
      "Records Done: 100\n",
      "Records Done: 150\n",
      "Records Done: 200\n",
      "Records Done: 250\n",
      "Records Done: 300\n",
      "Records Done: 350\n",
      "Records Done: 400\n",
      "Records Done: 450\n",
      "Records Done: 500\n",
      "Records Done: 550\n",
      "Records Done: 600\n",
      "Records Done: 650\n",
      "Records Done: 700\n",
      "Records Done: 750\n",
      "Records Done: 800\n",
      "Records Done: 850\n",
      "Records Done: 900\n",
      "Records Done: 950\n",
      "Records Done: 1000\n",
      "Records Done: 1050\n",
      "Records Done: 1100\n",
      "Records Done: 1150\n",
      "Records Done: 1200\n",
      "Records Done: 1250\n",
      "Records Done: 1300\n",
      "Records Done: 1350\n"
     ]
    }
   ],
   "source": [
    "page_size = 50\n",
    "page_number = 1\n",
    "tag = 'python'\n",
    "tab = 'votes'\n",
    "count = 0\n",
    "final_matrix = []\n",
    "while count < 2500:\n",
    "    url = f'https://stackoverflow.com/questions/tagged/{tag}?tab={tab}&page={page_number}&pagesize={page_size}'\n",
    "    r = requests.get(url)\n",
    "    r_html = HTML(html=r.text)\n",
    "    all_quests = r_html.find(\".question-summary\")\n",
    "    header = [\"Question\", \"Votes\", \"Keywords\", \"Page Link\"]\n",
    "    for single_quest in all_quests:\n",
    "        h3 = single_quest.find(\"h3\")[0]\n",
    "        question = h3.text\n",
    "        question_id = h3.find(\"a\")\n",
    "        question_id = list(question_id[0].links)[0].split(\"/\")[2]\n",
    "        page_link = f'https://stackoverflow.com/questions/{question_id}'\n",
    "        votes = single_quest.find(\"strong\")[0].text\n",
    "        tags = single_quest.find(\".tags\")[0].find(\"a\")\n",
    "        tags = [tag.text for tag in tags]\n",
    "        tags = \", \".join(tags)\n",
    "        final_matrix.append([question, votes, tags, page_link])\n",
    "    count = len(final_matrix)\n",
    "    page_number += 1\n",
    "    print(f'Records Done: {len(final_matrix)}')\n"
   ]
  },
  {
   "cell_type": "code",
   "execution_count": 8,
   "metadata": {
    "pycharm": {
     "name": "#%%\n"
    }
   },
   "outputs": [
    {
     "data": {
      "text/html": [
       "<div>\n",
       "<style scoped>\n",
       "    .dataframe tbody tr th:only-of-type {\n",
       "        vertical-align: middle;\n",
       "    }\n",
       "\n",
       "    .dataframe tbody tr th {\n",
       "        vertical-align: top;\n",
       "    }\n",
       "\n",
       "    .dataframe thead th {\n",
       "        text-align: right;\n",
       "    }\n",
       "</style>\n",
       "<table border=\"1\" class=\"dataframe\">\n",
       "  <thead>\n",
       "    <tr style=\"text-align: right;\">\n",
       "      <th></th>\n",
       "      <th>Question</th>\n",
       "      <th>Votes</th>\n",
       "      <th>Keywords</th>\n",
       "      <th>Page Link</th>\n",
       "    </tr>\n",
       "  </thead>\n",
       "  <tbody>\n",
       "    <tr>\n",
       "      <th>0</th>\n",
       "      <td>What does the “yield” keyword do?</td>\n",
       "      <td>10545</td>\n",
       "      <td>python, iterator, generator, yield, coroutine</td>\n",
       "      <td>stackoverflow.com/questions/231767</td>\n",
       "    </tr>\n",
       "    <tr>\n",
       "      <th>1</th>\n",
       "      <td>What does if __name__ == “__main__”: do?</td>\n",
       "      <td>6339</td>\n",
       "      <td>python, namespaces, main, python-module, idioms</td>\n",
       "      <td>stackoverflow.com/questions/419163</td>\n",
       "    </tr>\n",
       "    <tr>\n",
       "      <th>2</th>\n",
       "      <td>Does Python have a ternary conditional operator?</td>\n",
       "      <td>6252</td>\n",
       "      <td>python, operators, ternary-operator, condition...</td>\n",
       "      <td>stackoverflow.com/questions/394809</td>\n",
       "    </tr>\n",
       "    <tr>\n",
       "      <th>3</th>\n",
       "      <td>What are metaclasses in Python?</td>\n",
       "      <td>5875</td>\n",
       "      <td>python, oop, metaclass, python-datamodel</td>\n",
       "      <td>stackoverflow.com/questions/100003</td>\n",
       "    </tr>\n",
       "    <tr>\n",
       "      <th>4</th>\n",
       "      <td>How do I check whether a file exists without e...</td>\n",
       "      <td>5780</td>\n",
       "      <td>python, file, file-exists</td>\n",
       "      <td>stackoverflow.com/questions/82831</td>\n",
       "    </tr>\n",
       "  </tbody>\n",
       "</table>\n",
       "</div>"
      ],
      "text/plain": [
       "                                            Question  Votes  \\\n",
       "0                  What does the “yield” keyword do?  10545   \n",
       "1           What does if __name__ == “__main__”: do?   6339   \n",
       "2   Does Python have a ternary conditional operator?   6252   \n",
       "3                    What are metaclasses in Python?   5875   \n",
       "4  How do I check whether a file exists without e...   5780   \n",
       "\n",
       "                                            Keywords  \\\n",
       "0      python, iterator, generator, yield, coroutine   \n",
       "1    python, namespaces, main, python-module, idioms   \n",
       "2  python, operators, ternary-operator, condition...   \n",
       "3           python, oop, metaclass, python-datamodel   \n",
       "4                          python, file, file-exists   \n",
       "\n",
       "                            Page Link  \n",
       "0  stackoverflow.com/questions/231767  \n",
       "1  stackoverflow.com/questions/419163  \n",
       "2  stackoverflow.com/questions/394809  \n",
       "3  stackoverflow.com/questions/100003  \n",
       "4   stackoverflow.com/questions/82831  "
      ]
     },
     "execution_count": 8,
     "metadata": {},
     "output_type": "execute_result"
    }
   ],
   "source": [
    "df = pd.DataFrame(final_matrix, columns=header)\n",
    "df.to_csv('test.csv', index=True)\n",
    "df.head()\n"
   ]
  }
 ],
 "metadata": {
  "kernelspec": {
   "display_name": "Python 3",
   "language": "python",
   "name": "python3"
  },
  "language_info": {
   "codemirror_mode": {
    "name": "ipython",
    "version": 3
   },
   "file_extension": ".py",
   "mimetype": "text/x-python",
   "name": "python",
   "nbconvert_exporter": "python",
   "pygments_lexer": "ipython3",
   "version": "3.8.5"
  }
 },
 "nbformat": 4,
 "nbformat_minor": 1
}